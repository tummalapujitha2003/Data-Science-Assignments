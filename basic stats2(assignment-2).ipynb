{
 "cells": [
  {
   "cell_type": "code",
   "execution_count": 1,
   "id": "648869a6-769b-4695-bef3-05106a97643d",
   "metadata": {},
   "outputs": [],
   "source": [
    "import numpy as np\n",
    "import scipy.stats as stats"
   ]
  },
  {
   "cell_type": "code",
   "execution_count": 7,
   "id": "ff76ad14-85ba-4c34-b85b-2ca05a48a471",
   "metadata": {},
   "outputs": [],
   "source": [
    "durability=np.array([1.13,1.55,1.43,0.92,1.25,1.36,1.32,0.85,1.07,1.48,1.20,1.33,1.18,1.22,1.29])"
   ]
  },
  {
   "cell_type": "code",
   "execution_count": 8,
   "id": "74693433-8055-4ca8-94e4-78ff67e81a9a",
   "metadata": {},
   "outputs": [],
   "source": [
    "sample_mean=np.mean(durability)\n",
    "sample_std=np.std(durability,ddof=1)\n",
    "n=len(durability)\n",
    "confidence_level=0.99\n",
    "alpha=1-confidence_level"
   ]
  },
  {
   "cell_type": "code",
   "execution_count": 13,
   "id": "25182fdc-a1a3-4665-a57e-802be279466f",
   "metadata": {},
   "outputs": [],
   "source": [
    "# a. 99% Confidence Interval using sample std (t-distribution)\n",
    "t_critical=stats.t.ppf(1-alpha/2,df=n-1)\n",
    "margin_error_t=t_critical*(sample_std/np.sqrt(n))\n",
    "ci_t=(sample_mean-margin_error_t,sample_mean+margin_error_t)"
   ]
  },
  {
   "cell_type": "code",
   "execution_count": 14,
   "id": "777c1d64-75f2-4ba4-b778-8496d51b911c",
   "metadata": {},
   "outputs": [],
   "source": [
    "# b. 99% Confidence Interval using known population std (z-distribution)\n",
    "pop_std=0.2\n",
    "z_critical=stats.norm.ppf(1-alpha/2)\n",
    "margin_error_z=z_critical*(pop_std/np.sqrt(n))\n",
    "ci_z=(sample_mean-margin_error_z,sample_mean+margin_error_z)"
   ]
  },
  {
   "cell_type": "code",
   "execution_count": 12,
   "id": "92d4ea68-169e-4b3e-b02c-2fbe80a09529",
   "metadata": {},
   "outputs": [
    {
     "name": "stdout",
     "output_type": "stream",
     "text": [
      "Sample Mean:1.239\n",
      "Sample Std Dev:0.193\n",
      "99% CI using t-distribution(sample std):(1.0901973384384906, 1.3871359948948425)\n",
      "99% CI using z-distribution(known population std=0.2):(1.1056514133957607, 1.3716819199375725)\n"
     ]
    }
   ],
   "source": [
    "print(f\"Sample Mean:{sample_mean:.3f}\")\n",
    "print(f\"Sample Std Dev:{sample_std:.3f}\")\n",
    "print(f\"99% CI using t-distribution(sample std):{ci_t}\")\n",
    "print(f\"99% CI using z-distribution(known population std=0.2):{ci_z}\")"
   ]
  }
 ],
 "metadata": {
  "kernelspec": {
   "display_name": "Python 3 (ipykernel)",
   "language": "python",
   "name": "python3"
  },
  "language_info": {
   "codemirror_mode": {
    "name": "ipython",
    "version": 3
   },
   "file_extension": ".py",
   "mimetype": "text/x-python",
   "name": "python",
   "nbconvert_exporter": "python",
   "pygments_lexer": "ipython3",
   "version": "3.12.3"
  }
 },
 "nbformat": 4,
 "nbformat_minor": 5
}
