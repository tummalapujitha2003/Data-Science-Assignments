{
 "cells": [
  {
   "cell_type": "code",
   "execution_count": 16,
   "id": "7a00adc2-2932-481e-a30f-6bb572393c57",
   "metadata": {},
   "outputs": [],
   "source": [
    "import math\n",
    "import numpy as np\n",
    "from scipy.stats import norm"
   ]
  },
  {
   "cell_type": "code",
   "execution_count": 21,
   "id": "486e7107-5eb7-4c96-afeb-1fc3c4e2f7b1",
   "metadata": {},
   "outputs": [],
   "source": [
    "sample_mean=3050          \n",
    "X_mean=600                \n",
    "std_X=25                 \n",
    "sample_size=25"
   ]
  },
  {
   "cell_type": "code",
   "execution_count": 22,
   "id": "5b287b7d-13bf-4ab8-a295-cecbb880e8ae",
   "metadata": {},
   "outputs": [],
   "source": [
    "# Step 2: State the Hypotheses\n",
    "# H0: μ=4000 \n",
    "# H1: μ<4000 "
   ]
  },
  {
   "cell_type": "code",
   "execution_count": 23,
   "id": "4330874d-603d-4764-b607-081f373b3fd6",
   "metadata": {},
   "outputs": [],
   "source": [
    "theoretical_mean=1000+5*X_mean"
   ]
  },
  {
   "cell_type": "code",
   "execution_count": 24,
   "id": "e5de7322-ff7a-40b7-b930-c87b25753748",
   "metadata": {},
   "outputs": [],
   "source": [
    "std_weekly_cost=5*std_X"
   ]
  },
  {
   "cell_type": "code",
   "execution_count": 25,
   "id": "fa09e20c-4f2d-4bb2-904d-76908f71723a",
   "metadata": {},
   "outputs": [],
   "source": [
    "standard_error=std_weekly_cost/np.sqrt(sample_size)"
   ]
  },
  {
   "cell_type": "code",
   "execution_count": 26,
   "id": "e613de60-8c0a-4b7d-8fb9-bb49f064daa0",
   "metadata": {},
   "outputs": [
    {
     "name": "stdout",
     "output_type": "stream",
     "text": [
      "Z-statistic: -38.0\n"
     ]
    }
   ],
   "source": [
    "# Step 4: Calculate z-statistic\n",
    "z_stat=(sample_mean-theoretical_mean)/standard_error\n",
    "print(\"Z-statistic:\",z_stat)"
   ]
  },
  {
   "cell_type": "code",
   "execution_count": 29,
   "id": "44c4e518-7e1e-45dc-bc01-d36c28c2e45f",
   "metadata": {},
   "outputs": [
    {
     "name": "stdout",
     "output_type": "stream",
     "text": [
      "Critical z-value: -1.6448536269514729\n"
     ]
    }
   ],
   "source": [
    "# Step 5: Critical Value and Decision\n",
    "# For α=0.05(5% significance level),one-tailed test(left tail)\n",
    "alpha=0.05\n",
    "z_critical=norm.ppf(alpha)\n",
    "print(\"Critical z-value:\",z_critical)"
   ]
  },
  {
   "cell_type": "code",
   "execution_count": 28,
   "id": "4ba7626b-17de-49af-ba23-be4aa2efe17e",
   "metadata": {},
   "outputs": [
    {
     "name": "stdout",
     "output_type": "stream",
     "text": [
      "Reject the null hypothesis.\n",
      "Conclusion: There is sufficient evidence to support the restaurant owners' claim that weekly operating costs are lower than the model suggests.\n"
     ]
    }
   ],
   "source": [
    "# Step 6: Conclusion\n",
    "if z_stat<z_critical:\n",
    "    print(\"Reject the null hypothesis.\")\n",
    "    print(\"Conclusion: There is sufficient evidence to support the restaurant owners' claim that weekly operating costs are lower than the model suggests.\")\n",
    "else:\n",
    "    print(\"Fail to reject the null hypothesis.\")\n",
    "    print(\"Conclusion: There is insufficient evidence to support the restaurant owners' claim.\")"
   ]
  },
  {
   "cell_type": "code",
   "execution_count": null,
   "id": "41175a29-38ba-4d65-b0de-b05a5751c476",
   "metadata": {},
   "outputs": [],
   "source": []
  }
 ],
 "metadata": {
  "kernelspec": {
   "display_name": "Python 3 (ipykernel)",
   "language": "python",
   "name": "python3"
  },
  "language_info": {
   "codemirror_mode": {
    "name": "ipython",
    "version": 3
   },
   "file_extension": ".py",
   "mimetype": "text/x-python",
   "name": "python",
   "nbconvert_exporter": "python",
   "pygments_lexer": "ipython3",
   "version": "3.12.3"
  }
 },
 "nbformat": 4,
 "nbformat_minor": 5
}
