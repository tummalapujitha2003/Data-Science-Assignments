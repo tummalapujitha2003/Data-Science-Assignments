{
 "cells": [
  {
   "cell_type": "code",
   "execution_count": 1,
   "id": "a1d21b55-6a22-4cac-9b93-6308c653d6e3",
   "metadata": {},
   "outputs": [
    {
     "name": "stdout",
     "output_type": "stream",
     "text": [
      "answer:15\n",
      "Correct\n"
     ]
    }
   ],
   "source": [
    "#Exercise 1: Prime Numbers\n",
    "import random\n",
    "num1=random.randint(1,10)\n",
    "num2=random.randint(1,10)\n",
    "simulated_user_answer=num1*num2 \n",
    "print(f\"answer:{simulated_user_answer}\")\n",
    "if simulated_user_answer==num1*num2:\n",
    "    print(\"Correct\")\n",
    "else:\n",
    "    print(\"Incorrect.The correct answer is {num1*num2}.\")"
   ]
  },
  {
   "cell_type": "code",
   "execution_count": 2,
   "id": "22294ade-dce6-4bd2-8669-e21434ceb58a",
   "metadata": {},
   "outputs": [
    {
     "name": "stdout",
     "output_type": "stream",
     "text": [
      "answer:50\n",
      "Correct\n"
     ]
    }
   ],
   "source": [
    "#Exercise 2: Product of Random Numbers\n",
    "import random\n",
    "num1=random.randint(1,10)\n",
    "num2=random.randint(1,10)\n",
    "simulated_user_answer=num1*num2 \n",
    "print(f\"answer:{simulated_user_answer}\")\n",
    "if simulated_user_answer==num1*num2:\n",
    "    print(\"Correct\")\n",
    "else:\n",
    "    print(f\"Incorrect. The correct answer is {num1*num2}.\")"
   ]
  },
  {
   "cell_type": "code",
   "execution_count": 3,
   "id": "5833fc82-9085-456a-a9ae-6d2c70a60f80",
   "metadata": {},
   "outputs": [
    {
     "name": "stdout",
     "output_type": "stream",
     "text": [
      "100^2=10000\n",
      "102^2=10404\n",
      "104^2=10816\n",
      "106^2=11236\n",
      "108^2=11664\n",
      "110^2=12100\n",
      "112^2=12544\n",
      "114^2=12996\n",
      "116^2=13456\n",
      "118^2=13924\n",
      "120^2=14400\n",
      "122^2=14884\n",
      "124^2=15376\n",
      "126^2=15876\n",
      "128^2=16384\n",
      "130^2=16900\n",
      "132^2=17424\n",
      "134^2=17956\n",
      "136^2=18496\n",
      "138^2=19044\n",
      "140^2=19600\n",
      "142^2=20164\n",
      "144^2=20736\n",
      "146^2=21316\n",
      "148^2=21904\n",
      "150^2=22500\n",
      "152^2=23104\n",
      "154^2=23716\n",
      "156^2=24336\n",
      "158^2=24964\n",
      "160^2=25600\n",
      "162^2=26244\n",
      "164^2=26896\n",
      "166^2=27556\n",
      "168^2=28224\n",
      "170^2=28900\n",
      "172^2=29584\n",
      "174^2=30276\n",
      "176^2=30976\n",
      "178^2=31684\n",
      "180^2=32400\n",
      "182^2=33124\n",
      "184^2=33856\n",
      "186^2=34596\n",
      "188^2=35344\n",
      "190^2=36100\n",
      "192^2=36864\n",
      "194^2=37636\n",
      "196^2=38416\n",
      "198^2=39204\n",
      "200^2=40000\n"
     ]
    }
   ],
   "source": [
    "#Exercise 3: Squares of Even/Odd Numbers\n",
    "for num in range(100,201):\n",
    "    if num%2==0:\n",
    "        print(f\"{num}^2={num**2}\")"
   ]
  },
  {
   "cell_type": "code",
   "execution_count": 4,
   "id": "9f8cc6b1-f7d7-4f47-86b0-4a12630d5159",
   "metadata": {},
   "outputs": [
    {
     "name": "stdout",
     "output_type": "stream",
     "text": [
      "'This':2\n",
      "'is':1\n",
      "'a':1\n",
      "'sample':1\n",
      "'text.':1\n",
      "'text':1\n",
      "'will':1\n",
      "'be':1\n",
      "'used':1\n",
      "'to':1\n",
      "'demonstrate':1\n",
      "'the':1\n",
      "'word':1\n",
      "'counter.':1\n"
     ]
    }
   ],
   "source": [
    "#Exercise 4: Word counter\n",
    "input_text=\"This is a sample text. This text will be used to demonstrate the word counter.\"\n",
    "words=input_text.split()\n",
    "word_counts={}\n",
    "for word in words:\n",
    "    word_counts[word]=word_counts.get(word,0)+1\n",
    "for word,count in word_counts.items():\n",
    "    print(f\"'{word}':{count}\")"
   ]
  },
  {
   "cell_type": "code",
   "execution_count": 5,
   "id": "b4abebf6-e9e9-4671-9f03-234655f3aa12",
   "metadata": {},
   "outputs": [
    {
     "name": "stdout",
     "output_type": "stream",
     "text": [
      "'Racecar'is a palindrome:True\n"
     ]
    }
   ],
   "source": [
    "#Exercise 5: Check for Palindrome\n",
    "import re\n",
    "def is_palindrome(s):\n",
    "    cleaned=re.sub(r'[^A-Za-z0-9]','',s).lower()\n",
    "    return cleaned==cleaned[::-1]\n",
    "\n",
    "test_str=\"Racecar\"\n",
    "print(f\"'{test_str}'is a palindrome:{is_palindrome(test_str)}\")"
   ]
  },
  {
   "cell_type": "code",
   "execution_count": null,
   "id": "ce834a70-3117-4164-b4c2-871652a41735",
   "metadata": {},
   "outputs": [],
   "source": []
  }
 ],
 "metadata": {
  "kernelspec": {
   "display_name": "Python 3 (ipykernel)",
   "language": "python",
   "name": "python3"
  },
  "language_info": {
   "codemirror_mode": {
    "name": "ipython",
    "version": 3
   },
   "file_extension": ".py",
   "mimetype": "text/x-python",
   "name": "python",
   "nbconvert_exporter": "python",
   "pygments_lexer": "ipython3",
   "version": "3.12.3"
  }
 },
 "nbformat": 4,
 "nbformat_minor": 5
}
