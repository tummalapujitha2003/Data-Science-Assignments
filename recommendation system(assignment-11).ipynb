{
 "cells": [
  {
   "cell_type": "code",
   "execution_count": 20,
   "id": "1ba1a005-61ee-4131-bcc7-4e21e1ab9bb4",
   "metadata": {},
   "outputs": [],
   "source": [
    "import pandas as pd\n",
    "import numpy as np\n",
    "from sklearn.feature_extraction.text import TfidfVectorizer\n",
    "from sklearn.metrics.pairwise import cosine_similarity\n",
    "from sklearn.model_selection import train_test_split\n",
    "from sklearn.metrics import precision_score, recall_score, f1_score"
   ]
  },
  {
   "cell_type": "markdown",
   "id": "7118d679-07b5-4d3e-9171-2d9145ca3f10",
   "metadata": {},
   "source": [
    "df=pd.read_csv(\"anime.csv\")"
   ]
  },
  {
   "cell_type": "code",
   "execution_count": 3,
   "id": "64298c02-1f3d-45be-a243-58e6387861ab",
   "metadata": {},
   "outputs": [
    {
     "name": "stdout",
     "output_type": "stream",
     "text": [
      "<class 'pandas.core.frame.DataFrame'>\n",
      "RangeIndex: 12294 entries, 0 to 12293\n",
      "Data columns (total 7 columns):\n",
      " #   Column    Non-Null Count  Dtype  \n",
      "---  ------    --------------  -----  \n",
      " 0   anime_id  12294 non-null  int64  \n",
      " 1   name      12294 non-null  object \n",
      " 2   genre     12232 non-null  object \n",
      " 3   type      12269 non-null  object \n",
      " 4   episodes  12294 non-null  object \n",
      " 5   rating    12064 non-null  float64\n",
      " 6   members   12294 non-null  int64  \n",
      "dtypes: float64(1), int64(2), object(4)\n",
      "memory usage: 672.5+ KB\n"
     ]
    }
   ],
   "source": [
    "df.info()"
   ]
  },
  {
   "cell_type": "code",
   "execution_count": 6,
   "id": "abf4f50b-cb50-4a04-95a2-9b81ea842d4a",
   "metadata": {},
   "outputs": [
    {
     "data": {
      "text/plain": [
       "(12294, 7)"
      ]
     },
     "execution_count": 6,
     "metadata": {},
     "output_type": "execute_result"
    }
   ],
   "source": [
    "df.shape"
   ]
  },
  {
   "cell_type": "code",
   "execution_count": 7,
   "id": "a4ae2578-0f35-410a-8835-d8a98394f415",
   "metadata": {},
   "outputs": [
    {
     "data": {
      "text/html": [
       "<div>\n",
       "<style scoped>\n",
       "    .dataframe tbody tr th:only-of-type {\n",
       "        vertical-align: middle;\n",
       "    }\n",
       "\n",
       "    .dataframe tbody tr th {\n",
       "        vertical-align: top;\n",
       "    }\n",
       "\n",
       "    .dataframe thead th {\n",
       "        text-align: right;\n",
       "    }\n",
       "</style>\n",
       "<table border=\"1\" class=\"dataframe\">\n",
       "  <thead>\n",
       "    <tr style=\"text-align: right;\">\n",
       "      <th></th>\n",
       "      <th>anime_id</th>\n",
       "      <th>name</th>\n",
       "      <th>genre</th>\n",
       "      <th>type</th>\n",
       "      <th>episodes</th>\n",
       "      <th>rating</th>\n",
       "      <th>members</th>\n",
       "    </tr>\n",
       "  </thead>\n",
       "  <tbody>\n",
       "    <tr>\n",
       "      <th>0</th>\n",
       "      <td>32281</td>\n",
       "      <td>Kimi no Na wa.</td>\n",
       "      <td>Drama, Romance, School, Supernatural</td>\n",
       "      <td>Movie</td>\n",
       "      <td>1</td>\n",
       "      <td>9.37</td>\n",
       "      <td>200630</td>\n",
       "    </tr>\n",
       "    <tr>\n",
       "      <th>1</th>\n",
       "      <td>5114</td>\n",
       "      <td>Fullmetal Alchemist: Brotherhood</td>\n",
       "      <td>Action, Adventure, Drama, Fantasy, Magic, Mili...</td>\n",
       "      <td>TV</td>\n",
       "      <td>64</td>\n",
       "      <td>9.26</td>\n",
       "      <td>793665</td>\n",
       "    </tr>\n",
       "    <tr>\n",
       "      <th>2</th>\n",
       "      <td>28977</td>\n",
       "      <td>Gintama°</td>\n",
       "      <td>Action, Comedy, Historical, Parody, Samurai, S...</td>\n",
       "      <td>TV</td>\n",
       "      <td>51</td>\n",
       "      <td>9.25</td>\n",
       "      <td>114262</td>\n",
       "    </tr>\n",
       "    <tr>\n",
       "      <th>3</th>\n",
       "      <td>9253</td>\n",
       "      <td>Steins;Gate</td>\n",
       "      <td>Sci-Fi, Thriller</td>\n",
       "      <td>TV</td>\n",
       "      <td>24</td>\n",
       "      <td>9.17</td>\n",
       "      <td>673572</td>\n",
       "    </tr>\n",
       "    <tr>\n",
       "      <th>4</th>\n",
       "      <td>9969</td>\n",
       "      <td>Gintama&amp;#039;</td>\n",
       "      <td>Action, Comedy, Historical, Parody, Samurai, S...</td>\n",
       "      <td>TV</td>\n",
       "      <td>51</td>\n",
       "      <td>9.16</td>\n",
       "      <td>151266</td>\n",
       "    </tr>\n",
       "  </tbody>\n",
       "</table>\n",
       "</div>"
      ],
      "text/plain": [
       "   anime_id                              name  \\\n",
       "0     32281                    Kimi no Na wa.   \n",
       "1      5114  Fullmetal Alchemist: Brotherhood   \n",
       "2     28977                          Gintama°   \n",
       "3      9253                       Steins;Gate   \n",
       "4      9969                     Gintama&#039;   \n",
       "\n",
       "                                               genre   type episodes  rating  \\\n",
       "0               Drama, Romance, School, Supernatural  Movie        1    9.37   \n",
       "1  Action, Adventure, Drama, Fantasy, Magic, Mili...     TV       64    9.26   \n",
       "2  Action, Comedy, Historical, Parody, Samurai, S...     TV       51    9.25   \n",
       "3                                   Sci-Fi, Thriller     TV       24    9.17   \n",
       "4  Action, Comedy, Historical, Parody, Samurai, S...     TV       51    9.16   \n",
       "\n",
       "   members  \n",
       "0   200630  \n",
       "1   793665  \n",
       "2   114262  \n",
       "3   673572  \n",
       "4   151266  "
      ]
     },
     "execution_count": 7,
     "metadata": {},
     "output_type": "execute_result"
    }
   ],
   "source": [
    "df.head()"
   ]
  },
  {
   "cell_type": "code",
   "execution_count": 29,
   "id": "5ada570c-8943-4311-baee-d0716d029359",
   "metadata": {},
   "outputs": [],
   "source": [
    "# Step 1: Data Preprocessing\n",
    "# Drop rows with missing essential data\n",
    "df.dropna(subset=[\"name\",\"genre\",\"rating\"],inplace=True)"
   ]
  },
  {
   "cell_type": "code",
   "execution_count": 30,
   "id": "06d1ea3f-8812-4a75-9628-f2d3b84f2eb8",
   "metadata": {},
   "outputs": [
    {
     "name": "stderr",
     "output_type": "stream",
     "text": [
      "C:\\Users\\pujitha tummala\\AppData\\Local\\Temp\\ipykernel_15744\\1395723516.py:3: FutureWarning: A value is trying to be set on a copy of a DataFrame or Series through chained assignment using an inplace method.\n",
      "The behavior will change in pandas 3.0. This inplace method will never work because the intermediate object on which we are setting values always behaves as a copy.\n",
      "\n",
      "For example, when doing 'df[col].method(value, inplace=True)', try using 'df.method({col: value}, inplace=True)' or df[col] = df[col].method(value) instead, to perform the operation inplace on the original object.\n",
      "\n",
      "\n",
      "  df[\"episodes\"].fillna(df[\"episodes\"].median(),inplace=True)\n"
     ]
    }
   ],
   "source": [
    "# Fill missing episodes with median\n",
    "df[\"episodes\"]=pd.to_numeric(df[\"episodes\"],errors='coerce')\n",
    "df[\"episodes\"].fillna(df[\"episodes\"].median(),inplace=True)"
   ]
  },
  {
   "cell_type": "code",
   "execution_count": 31,
   "id": "d156b7ad-ca77-4d6a-ac8e-0b9ac610cdf1",
   "metadata": {},
   "outputs": [],
   "source": [
    "# Clean genres\n",
    "df[\"genre\"]=df[\"genre\"].str.lower().str.replace(\" \", \"\")"
   ]
  },
  {
   "cell_type": "code",
   "execution_count": 32,
   "id": "12cd1f36-372c-4e36-81cc-4774bcf76ea8",
   "metadata": {},
   "outputs": [],
   "source": [
    "# Step 2: Feature Extraction\n",
    "# Using TF-IDF on genre\n",
    "tfidf=TfidfVectorizer(token_pattern=r\"[^,]+\")\n",
    "tfidf_matrix=tfidf.fit_transform(df[\"genre\"])"
   ]
  },
  {
   "cell_type": "code",
   "execution_count": 33,
   "id": "d73acaa9-1009-40b7-ab83-a720fa512ba3",
   "metadata": {},
   "outputs": [],
   "source": [
    "# Add rating and episodes as additional features\n",
    "numeric_features=df[[\"rating\", \"episodes\"]]\n",
    "numeric_features=(numeric_features-numeric_features.mean())/numeric_features.std()"
   ]
  },
  {
   "cell_type": "code",
   "execution_count": 34,
   "id": "7797a546-924b-4c11-ba05-1bfa4c345cfd",
   "metadata": {},
   "outputs": [],
   "source": [
    "# Combine genre TF-IDF with numeric features\n",
    "from scipy.sparse import hstack\n",
    "features_combined=hstack([tfidf_matrix,numeric_features])"
   ]
  },
  {
   "cell_type": "code",
   "execution_count": 35,
   "id": "930f1689-485d-4f4b-a2d1-60bd69689151",
   "metadata": {},
   "outputs": [],
   "source": [
    "# Step 3: Recommendation System\n",
    "# Cosine Similarity Matrix\n",
    "cos_sim=cosine_similarity(features_combined,features_combined)"
   ]
  },
  {
   "cell_type": "code",
   "execution_count": 15,
   "id": "7792eb88-5e15-40b1-9ab4-f3f884b79a5f",
   "metadata": {},
   "outputs": [],
   "source": [
    "# Function to recommend anime\n",
    "def recommend_anime(title, top_n=5, threshold=0.3):\n",
    "    if title not in df[\"name\"].values:\n",
    "        return \"Anime not found.\"\n",
    "\n",
    "    idx = df[df[\"name\"] == title].index[0]\n",
    "    sim_scores = list(enumerate(cos_sim[idx]))\n",
    "    sim_scores = sorted(sim_scores, key=lambda x: x[1], reverse=True)\n",
    "\n",
    "    recommended = []\n",
    "    for i, score in sim_scores[1:]:  # skip itself\n",
    "        if score >= threshold:\n",
    "            recommended.append((df.iloc[i][\"name\"], score))\n",
    "        if len(recommended) >= top_n:\n",
    "            break\n",
    "    return recommended"
   ]
  },
  {
   "cell_type": "code",
   "execution_count": 16,
   "id": "f2fd0769-c670-4e39-b34b-f118d0b87d91",
   "metadata": {},
   "outputs": [
    {
     "name": "stdout",
     "output_type": "stream",
     "text": [
      "Recommended Anime:\n",
      "[('Dragon Ball Z', 0.9951780748155952), ('Bleach', 0.9832627363578021), ('Katekyo Hitman Reborn!', 0.9806521879098526), ('Keroro Gunsou', 0.9745870890831057), ('Dragon Ball', 0.9666902215217162)]\n"
     ]
    }
   ],
   "source": [
    "# Try a recommendation\n",
    "print(\"Recommended Anime:\")\n",
    "print(recommend_anime(\"Naruto\"))"
   ]
  },
  {
   "cell_type": "code",
   "execution_count": 36,
   "id": "ef375044-d832-4ddb-826f-3b35e9762cfc",
   "metadata": {},
   "outputs": [],
   "source": [
    "# Step 4: Evaluation\n",
    "# Binary relevance matrix for genre prediction \n",
    "X=features_combined\n",
    "y=df.copy()"
   ]
  },
  {
   "cell_type": "code",
   "execution_count": 37,
   "id": "c04ba468-6be5-4c38-8fc9-b0d27a99eff0",
   "metadata": {},
   "outputs": [],
   "source": [
    "# Split\n",
    "X_train,X_test,y_train,y_test=train_test_split(X,y,test_size=0.2,random_state=42)"
   ]
  },
  {
   "cell_type": "code",
   "execution_count": 38,
   "id": "a76213ef-370b-41b8-956b-4556f3f12517",
   "metadata": {},
   "outputs": [],
   "source": [
    "# Recompute cosine similarity only for test vs train\n",
    "cos_sim_eval=cosine_similarity(X_test,X_train)"
   ]
  },
  {
   "cell_type": "code",
   "execution_count": 39,
   "id": "223d1dd7-f196-4490-badd-82a175a2e4a9",
   "metadata": {},
   "outputs": [],
   "source": [
    "# Genre labels\n",
    "genre_cols=list(all_genres)\n",
    "y_train_genres=y_train[genre_cols].values\n",
    "y_test_genres=y_test[genre_cols].values"
   ]
  },
  {
   "cell_type": "code",
   "execution_count": 40,
   "id": "89cbd7ab-538d-47cf-8ca9-17b4963ed7e1",
   "metadata": {},
   "outputs": [],
   "source": [
    "# Predict genre of test item based on most similar item in train\n",
    "pred_labels=[]\n",
    "\n",
    "for i in range(X_test.shape[0]):\n",
    "    sim_scores=cos_sim_eval[i]\n",
    "    top_idx=np.argmax(sim_scores)\n",
    "    pred_labels.append(y_train_genres[top_idx])"
   ]
  },
  {
   "cell_type": "code",
   "execution_count": 41,
   "id": "d70522cf-a521-4f71-866b-e9ea9a47cc83",
   "metadata": {},
   "outputs": [],
   "source": [
    "# Convert to numpy array\n",
    "pred_labels=np.array(pred_labels)"
   ]
  },
  {
   "cell_type": "code",
   "execution_count": 42,
   "id": "37847a47-fdef-44ec-b4c4-f90dd8efc968",
   "metadata": {},
   "outputs": [],
   "source": [
    "precision=precision_score(y_test_genres,pred_labels,average=\"micro\")\n",
    "recall=recall_score(y_test_genres,pred_labels,average=\"micro\")\n",
    "f1=f1_score(y_test_genres,pred_labels,average=\"micro\")"
   ]
  },
  {
   "cell_type": "code",
   "execution_count": 43,
   "id": "106e1091-5dc8-4169-a782-ada17d6c6c5b",
   "metadata": {},
   "outputs": [
    {
     "name": "stdout",
     "output_type": "stream",
     "text": [
      "\n",
      "Evaluation Metrics:\n",
      "Precision: 0.939\n",
      "Recall: 0.897\n",
      "F1 Score: 0.918\n"
     ]
    }
   ],
   "source": [
    "print(\"\\nEvaluation Metrics:\")\n",
    "print(f\"Precision: {precision:.3f}\")\n",
    "print(f\"Recall: {recall:.3f}\")\n",
    "print(f\"F1 Score: {f1:.3f}\")"
   ]
  },
  {
   "cell_type": "code",
   "execution_count": 1,
   "id": "29bd54b2-e458-4fa4-8f9d-e14a1c75b9c6",
   "metadata": {},
   "outputs": [],
   "source": [
    "#1. What’s the difference between user-based and item-based collaborative filtering?\n",
    "\n",
    "#User-based finds users similar to you and recommends what they liked.\n",
    "#Item-based finds items similar to what you liked and recommends those.\n",
    "#Item-based is usually more stable and scalable."
   ]
  },
  {
   "cell_type": "code",
   "execution_count": 2,
   "id": "286ec65b-c42f-4b5d-9023-0e9266462e0c",
   "metadata": {},
   "outputs": [],
   "source": [
    "#2. What is collaborative filtering, and how does it work?\n",
    "\n",
    "#Collaborative filtering recommends items by finding patterns in user behavior (like ratings or purchases).\n",
    "#It uses either similar users (user-based) or similar items (item-based) to make predictions—without needing item details."
   ]
  },
  {
   "cell_type": "code",
   "execution_count": null,
   "id": "c1b0495b-6a7f-447d-92ae-39ebf500765b",
   "metadata": {},
   "outputs": [],
   "source": []
  }
 ],
 "metadata": {
  "kernelspec": {
   "display_name": "Python 3 (ipykernel)",
   "language": "python",
   "name": "python3"
  },
  "language_info": {
   "codemirror_mode": {
    "name": "ipython",
    "version": 3
   },
   "file_extension": ".py",
   "mimetype": "text/x-python",
   "name": "python",
   "nbconvert_exporter": "python",
   "pygments_lexer": "ipython3",
   "version": "3.12.3"
  }
 },
 "nbformat": 4,
 "nbformat_minor": 5
}
