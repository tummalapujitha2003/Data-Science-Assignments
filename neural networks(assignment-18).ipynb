{
 "cells": [
  {
   "cell_type": "code",
   "execution_count": 33,
   "id": "4e3d5e65-e2db-42c4-b02e-03d134094cef",
   "metadata": {},
   "outputs": [],
   "source": [
    "import pandas as pd\n",
    "import numpy as np\n",
    "import matplotlib.pyplot as plt\n",
    "from sklearn.model_selection import train_test_split\n",
    "from sklearn.preprocessing import StandardScaler, LabelEncoder\n",
    "from sklearn.metrics import accuracy_score, precision_score, recall_score, f1_score, classification_report\n",
    "from keras.models import Sequential\n",
    "from keras.layers import Dense\n",
    "from keras.utils import to_categorical\n",
    "import warnings\n",
    "warnings.filterwarnings('ignore')"
   ]
  },
  {
   "cell_type": "code",
   "execution_count": 49,
   "id": "d432c35e-5685-4092-9508-5e083cdac663",
   "metadata": {},
   "outputs": [],
   "source": [
    "df=pd.read_csv(\"Alphabets_data.csv\")"
   ]
  },
  {
   "cell_type": "code",
   "execution_count": 35,
   "id": "4c4d950d-4213-41f4-a905-320ac0d82abf",
   "metadata": {},
   "outputs": [
    {
     "data": {
      "text/plain": [
       "letter    object\n",
       "xbox       int64\n",
       "ybox       int64\n",
       "width      int64\n",
       "height     int64\n",
       "onpix      int64\n",
       "xbar       int64\n",
       "ybar       int64\n",
       "x2bar      int64\n",
       "y2bar      int64\n",
       "xybar      int64\n",
       "x2ybar     int64\n",
       "xy2bar     int64\n",
       "xedge      int64\n",
       "xedgey     int64\n",
       "yedge      int64\n",
       "yedgex     int64\n",
       "dtype: object"
      ]
     },
     "execution_count": 35,
     "metadata": {},
     "output_type": "execute_result"
    }
   ],
   "source": [
    "df.dtypes"
   ]
  },
  {
   "cell_type": "code",
   "execution_count": 50,
   "id": "34334fc6-6842-4401-9e25-e0181ddee266",
   "metadata": {},
   "outputs": [],
   "source": [
    "df=df.apply(pd.to_numeric,errors='ignore')"
   ]
  },
  {
   "cell_type": "code",
   "execution_count": 51,
   "id": "e78bf47e-3e8e-4cf3-86d4-2c5b1e558caf",
   "metadata": {},
   "outputs": [],
   "source": [
    "# Encode the target\n",
    "label_encoder=LabelEncoder()\n",
    "df['letter_encoded']=label_encoder.fit_transform(df['letter'])"
   ]
  },
  {
   "cell_type": "code",
   "execution_count": 52,
   "id": "0da8f625-4667-405d-a809-2f57d5dbb2e1",
   "metadata": {},
   "outputs": [],
   "source": [
    "# Features and target\n",
    "X=df.drop(['letter','letter_encoded'],axis=1)"
   ]
  },
  {
   "cell_type": "code",
   "execution_count": 53,
   "id": "d19930ce-7a57-4d93-ac1e-6e10f84b36ea",
   "metadata": {},
   "outputs": [],
   "source": [
    "# Convert X to numeric explicitly \n",
    "X=X.apply(pd.to_numeric,errors='coerce')\n",
    "if X.isnull().values.any():\n",
    "    X.fillna(0,inplace=True)"
   ]
  },
  {
   "cell_type": "code",
   "execution_count": 54,
   "id": "bf9a9641-9032-4776-b262-ea3260004b37",
   "metadata": {},
   "outputs": [],
   "source": [
    "y=to_categorical(df['letter_encoded'])"
   ]
  },
  {
   "cell_type": "code",
   "execution_count": 55,
   "id": "c5322878-9970-458f-b040-41e04b0a75e6",
   "metadata": {},
   "outputs": [],
   "source": [
    "# Train-test split\n",
    "X_train,X_test,y_train,y_test=train_test_split(X,y,test_size=0.2,random_state=42)"
   ]
  },
  {
   "cell_type": "code",
   "execution_count": 56,
   "id": "a56d5942-a7c7-49e2-9bd1-b2b899fe025b",
   "metadata": {},
   "outputs": [],
   "source": [
    "# Scaling\n",
    "scaler=StandardScaler()\n",
    "X_train=scaler.fit_transform(X_train)\n",
    "X_test=scaler.transform(X_test)"
   ]
  },
  {
   "cell_type": "code",
   "execution_count": 57,
   "id": "8ea6211c-3c4f-4e44-8920-4efbe6dd5c39",
   "metadata": {},
   "outputs": [],
   "source": [
    "# Model function\n",
    "def create_model(input_dim,hidden_layers=1,neurons=64,activation='relu',output_dim=y.shape[1]):\n",
    "    model=Sequential()\n",
    "    model.add(Dense(neurons,input_dim=input_dim,activation=activation))\n",
    "    for _ in range(hidden_layers-1):\n",
    "        model.add(Dense(neurons,activation=activation))\n",
    "    model.add(Dense(output_dim,activation='softmax'))\n",
    "    model.compile(optimizer='adam',loss='categorical_crossentropy',metrics=['accuracy'])\n",
    "    return model"
   ]
  },
  {
   "cell_type": "code",
   "execution_count": 58,
   "id": "8c41d4c0-3b8b-4840-9a42-61eb00fadea9",
   "metadata": {},
   "outputs": [],
   "source": [
    "# Build model\n",
    "model=create_model(input_dim=X.shape[1])"
   ]
  },
  {
   "cell_type": "code",
   "execution_count": 59,
   "id": "8815b3e2-fb5c-42cf-a21c-1bf4c0851be7",
   "metadata": {},
   "outputs": [
    {
     "name": "stdout",
     "output_type": "stream",
     "text": [
      "Epoch 1/50\n",
      "\u001b[1m400/400\u001b[0m \u001b[32m━━━━━━━━━━━━━━━━━━━━\u001b[0m\u001b[37m\u001b[0m \u001b[1m2s\u001b[0m 3ms/step - accuracy: 0.2637 - loss: 2.7216 - val_accuracy: 0.6491 - val_loss: 1.4240\n",
      "Epoch 2/50\n",
      "\u001b[1m400/400\u001b[0m \u001b[32m━━━━━━━━━━━━━━━━━━━━\u001b[0m\u001b[37m\u001b[0m \u001b[1m1s\u001b[0m 2ms/step - accuracy: 0.6825 - loss: 1.2497 - val_accuracy: 0.7391 - val_loss: 1.0089\n",
      "Epoch 3/50\n",
      "\u001b[1m400/400\u001b[0m \u001b[32m━━━━━━━━━━━━━━━━━━━━\u001b[0m\u001b[37m\u001b[0m \u001b[1m1s\u001b[0m 2ms/step - accuracy: 0.7476 - loss: 0.9368 - val_accuracy: 0.7713 - val_loss: 0.8437\n",
      "Epoch 4/50\n",
      "\u001b[1m400/400\u001b[0m \u001b[32m━━━━━━━━━━━━━━━━━━━━\u001b[0m\u001b[37m\u001b[0m \u001b[1m1s\u001b[0m 2ms/step - accuracy: 0.7762 - loss: 0.8026 - val_accuracy: 0.7959 - val_loss: 0.7363\n",
      "Epoch 5/50\n",
      "\u001b[1m400/400\u001b[0m \u001b[32m━━━━━━━━━━━━━━━━━━━━\u001b[0m\u001b[37m\u001b[0m \u001b[1m1s\u001b[0m 2ms/step - accuracy: 0.8122 - loss: 0.6847 - val_accuracy: 0.8150 - val_loss: 0.6619\n",
      "Epoch 6/50\n",
      "\u001b[1m400/400\u001b[0m \u001b[32m━━━━━━━━━━━━━━━━━━━━\u001b[0m\u001b[37m\u001b[0m \u001b[1m1s\u001b[0m 3ms/step - accuracy: 0.8255 - loss: 0.6179 - val_accuracy: 0.8288 - val_loss: 0.6076\n",
      "Epoch 7/50\n",
      "\u001b[1m400/400\u001b[0m \u001b[32m━━━━━━━━━━━━━━━━━━━━\u001b[0m\u001b[37m\u001b[0m \u001b[1m1s\u001b[0m 3ms/step - accuracy: 0.8390 - loss: 0.5730 - val_accuracy: 0.8403 - val_loss: 0.5643\n",
      "Epoch 8/50\n",
      "\u001b[1m400/400\u001b[0m \u001b[32m━━━━━━━━━━━━━━━━━━━━\u001b[0m\u001b[37m\u001b[0m \u001b[1m1s\u001b[0m 3ms/step - accuracy: 0.8521 - loss: 0.5247 - val_accuracy: 0.8497 - val_loss: 0.5287\n",
      "Epoch 9/50\n",
      "\u001b[1m400/400\u001b[0m \u001b[32m━━━━━━━━━━━━━━━━━━━━\u001b[0m\u001b[37m\u001b[0m \u001b[1m1s\u001b[0m 3ms/step - accuracy: 0.8614 - loss: 0.4890 - val_accuracy: 0.8603 - val_loss: 0.4932\n",
      "Epoch 10/50\n",
      "\u001b[1m400/400\u001b[0m \u001b[32m━━━━━━━━━━━━━━━━━━━━\u001b[0m\u001b[37m\u001b[0m \u001b[1m1s\u001b[0m 3ms/step - accuracy: 0.8736 - loss: 0.4569 - val_accuracy: 0.8653 - val_loss: 0.4704\n",
      "Epoch 11/50\n",
      "\u001b[1m400/400\u001b[0m \u001b[32m━━━━━━━━━━━━━━━━━━━━\u001b[0m\u001b[37m\u001b[0m \u001b[1m1s\u001b[0m 2ms/step - accuracy: 0.8804 - loss: 0.4301 - val_accuracy: 0.8709 - val_loss: 0.4467\n",
      "Epoch 12/50\n",
      "\u001b[1m400/400\u001b[0m \u001b[32m━━━━━━━━━━━━━━━━━━━━\u001b[0m\u001b[37m\u001b[0m \u001b[1m1s\u001b[0m 3ms/step - accuracy: 0.8868 - loss: 0.4050 - val_accuracy: 0.8784 - val_loss: 0.4253\n",
      "Epoch 13/50\n",
      "\u001b[1m400/400\u001b[0m \u001b[32m━━━━━━━━━━━━━━━━━━━━\u001b[0m\u001b[37m\u001b[0m \u001b[1m1s\u001b[0m 3ms/step - accuracy: 0.8968 - loss: 0.3839 - val_accuracy: 0.8803 - val_loss: 0.4111\n",
      "Epoch 14/50\n",
      "\u001b[1m400/400\u001b[0m \u001b[32m━━━━━━━━━━━━━━━━━━━━\u001b[0m\u001b[37m\u001b[0m \u001b[1m1s\u001b[0m 3ms/step - accuracy: 0.8950 - loss: 0.3638 - val_accuracy: 0.8850 - val_loss: 0.3917\n",
      "Epoch 15/50\n",
      "\u001b[1m400/400\u001b[0m \u001b[32m━━━━━━━━━━━━━━━━━━━━\u001b[0m\u001b[37m\u001b[0m \u001b[1m1s\u001b[0m 3ms/step - accuracy: 0.9000 - loss: 0.3531 - val_accuracy: 0.8856 - val_loss: 0.3853\n",
      "Epoch 16/50\n",
      "\u001b[1m400/400\u001b[0m \u001b[32m━━━━━━━━━━━━━━━━━━━━\u001b[0m\u001b[37m\u001b[0m \u001b[1m1s\u001b[0m 3ms/step - accuracy: 0.9036 - loss: 0.3345 - val_accuracy: 0.8894 - val_loss: 0.3706\n",
      "Epoch 17/50\n",
      "\u001b[1m400/400\u001b[0m \u001b[32m━━━━━━━━━━━━━━━━━━━━\u001b[0m\u001b[37m\u001b[0m \u001b[1m1s\u001b[0m 3ms/step - accuracy: 0.9058 - loss: 0.3268 - val_accuracy: 0.8913 - val_loss: 0.3636\n",
      "Epoch 18/50\n",
      "\u001b[1m400/400\u001b[0m \u001b[32m━━━━━━━━━━━━━━━━━━━━\u001b[0m\u001b[37m\u001b[0m \u001b[1m1s\u001b[0m 2ms/step - accuracy: 0.9099 - loss: 0.3109 - val_accuracy: 0.8947 - val_loss: 0.3497\n",
      "Epoch 19/50\n",
      "\u001b[1m400/400\u001b[0m \u001b[32m━━━━━━━━━━━━━━━━━━━━\u001b[0m\u001b[37m\u001b[0m \u001b[1m1s\u001b[0m 2ms/step - accuracy: 0.9125 - loss: 0.3069 - val_accuracy: 0.9016 - val_loss: 0.3376\n",
      "Epoch 20/50\n",
      "\u001b[1m400/400\u001b[0m \u001b[32m━━━━━━━━━━━━━━━━━━━━\u001b[0m\u001b[37m\u001b[0m \u001b[1m1s\u001b[0m 3ms/step - accuracy: 0.9183 - loss: 0.2833 - val_accuracy: 0.9006 - val_loss: 0.3306\n",
      "Epoch 21/50\n",
      "\u001b[1m400/400\u001b[0m \u001b[32m━━━━━━━━━━━━━━━━━━━━\u001b[0m\u001b[37m\u001b[0m \u001b[1m1s\u001b[0m 3ms/step - accuracy: 0.9223 - loss: 0.2762 - val_accuracy: 0.9069 - val_loss: 0.3257\n",
      "Epoch 22/50\n",
      "\u001b[1m400/400\u001b[0m \u001b[32m━━━━━━━━━━━━━━━━━━━━\u001b[0m\u001b[37m\u001b[0m \u001b[1m1s\u001b[0m 3ms/step - accuracy: 0.9264 - loss: 0.2565 - val_accuracy: 0.9059 - val_loss: 0.3165\n",
      "Epoch 23/50\n",
      "\u001b[1m400/400\u001b[0m \u001b[32m━━━━━━━━━━━━━━━━━━━━\u001b[0m\u001b[37m\u001b[0m \u001b[1m1s\u001b[0m 3ms/step - accuracy: 0.9266 - loss: 0.2586 - val_accuracy: 0.9072 - val_loss: 0.3105\n",
      "Epoch 24/50\n",
      "\u001b[1m400/400\u001b[0m \u001b[32m━━━━━━━━━━━━━━━━━━━━\u001b[0m\u001b[37m\u001b[0m \u001b[1m1s\u001b[0m 3ms/step - accuracy: 0.9325 - loss: 0.2478 - val_accuracy: 0.9056 - val_loss: 0.3096\n",
      "Epoch 25/50\n",
      "\u001b[1m400/400\u001b[0m \u001b[32m━━━━━━━━━━━━━━━━━━━━\u001b[0m\u001b[37m\u001b[0m \u001b[1m1s\u001b[0m 3ms/step - accuracy: 0.9340 - loss: 0.2357 - val_accuracy: 0.9053 - val_loss: 0.3048\n",
      "Epoch 26/50\n",
      "\u001b[1m400/400\u001b[0m \u001b[32m━━━━━━━━━━━━━━━━━━━━\u001b[0m\u001b[37m\u001b[0m \u001b[1m1s\u001b[0m 3ms/step - accuracy: 0.9323 - loss: 0.2370 - val_accuracy: 0.9094 - val_loss: 0.3008\n",
      "Epoch 27/50\n",
      "\u001b[1m400/400\u001b[0m \u001b[32m━━━━━━━━━━━━━━━━━━━━\u001b[0m\u001b[37m\u001b[0m \u001b[1m1s\u001b[0m 3ms/step - accuracy: 0.9324 - loss: 0.2348 - val_accuracy: 0.9125 - val_loss: 0.2934\n",
      "Epoch 28/50\n",
      "\u001b[1m400/400\u001b[0m \u001b[32m━━━━━━━━━━━━━━━━━━━━\u001b[0m\u001b[37m\u001b[0m \u001b[1m1s\u001b[0m 3ms/step - accuracy: 0.9336 - loss: 0.2312 - val_accuracy: 0.9134 - val_loss: 0.2919\n",
      "Epoch 29/50\n",
      "\u001b[1m400/400\u001b[0m \u001b[32m━━━━━━━━━━━━━━━━━━━━\u001b[0m\u001b[37m\u001b[0m \u001b[1m1s\u001b[0m 2ms/step - accuracy: 0.9348 - loss: 0.2239 - val_accuracy: 0.9147 - val_loss: 0.2881\n",
      "Epoch 30/50\n",
      "\u001b[1m400/400\u001b[0m \u001b[32m━━━━━━━━━━━━━━━━━━━━\u001b[0m\u001b[37m\u001b[0m \u001b[1m1s\u001b[0m 3ms/step - accuracy: 0.9319 - loss: 0.2251 - val_accuracy: 0.9134 - val_loss: 0.2834\n",
      "Epoch 31/50\n",
      "\u001b[1m400/400\u001b[0m \u001b[32m━━━━━━━━━━━━━━━━━━━━\u001b[0m\u001b[37m\u001b[0m \u001b[1m1s\u001b[0m 3ms/step - accuracy: 0.9368 - loss: 0.2127 - val_accuracy: 0.9197 - val_loss: 0.2790\n",
      "Epoch 32/50\n",
      "\u001b[1m400/400\u001b[0m \u001b[32m━━━━━━━━━━━━━━━━━━━━\u001b[0m\u001b[37m\u001b[0m \u001b[1m1s\u001b[0m 2ms/step - accuracy: 0.9391 - loss: 0.2069 - val_accuracy: 0.9159 - val_loss: 0.2768\n",
      "Epoch 33/50\n",
      "\u001b[1m400/400\u001b[0m \u001b[32m━━━━━━━━━━━━━━━━━━━━\u001b[0m\u001b[37m\u001b[0m \u001b[1m1s\u001b[0m 3ms/step - accuracy: 0.9433 - loss: 0.2003 - val_accuracy: 0.9184 - val_loss: 0.2722\n",
      "Epoch 34/50\n",
      "\u001b[1m400/400\u001b[0m \u001b[32m━━━━━━━━━━━━━━━━━━━━\u001b[0m\u001b[37m\u001b[0m \u001b[1m1s\u001b[0m 3ms/step - accuracy: 0.9433 - loss: 0.1969 - val_accuracy: 0.9153 - val_loss: 0.2686\n",
      "Epoch 35/50\n",
      "\u001b[1m400/400\u001b[0m \u001b[32m━━━━━━━━━━━━━━━━━━━━\u001b[0m\u001b[37m\u001b[0m \u001b[1m1s\u001b[0m 2ms/step - accuracy: 0.9438 - loss: 0.1924 - val_accuracy: 0.9212 - val_loss: 0.2639\n",
      "Epoch 36/50\n",
      "\u001b[1m400/400\u001b[0m \u001b[32m━━━━━━━━━━━━━━━━━━━━\u001b[0m\u001b[37m\u001b[0m \u001b[1m1s\u001b[0m 2ms/step - accuracy: 0.9461 - loss: 0.1881 - val_accuracy: 0.9200 - val_loss: 0.2671\n",
      "Epoch 37/50\n",
      "\u001b[1m400/400\u001b[0m \u001b[32m━━━━━━━━━━━━━━━━━━━━\u001b[0m\u001b[37m\u001b[0m \u001b[1m1s\u001b[0m 2ms/step - accuracy: 0.9456 - loss: 0.1847 - val_accuracy: 0.9209 - val_loss: 0.2634\n",
      "Epoch 38/50\n",
      "\u001b[1m400/400\u001b[0m \u001b[32m━━━━━━━━━━━━━━━━━━━━\u001b[0m\u001b[37m\u001b[0m \u001b[1m1s\u001b[0m 3ms/step - accuracy: 0.9439 - loss: 0.1903 - val_accuracy: 0.9225 - val_loss: 0.2592\n",
      "Epoch 39/50\n",
      "\u001b[1m400/400\u001b[0m \u001b[32m━━━━━━━━━━━━━━━━━━━━\u001b[0m\u001b[37m\u001b[0m \u001b[1m1s\u001b[0m 3ms/step - accuracy: 0.9491 - loss: 0.1755 - val_accuracy: 0.9247 - val_loss: 0.2557\n",
      "Epoch 40/50\n",
      "\u001b[1m400/400\u001b[0m \u001b[32m━━━━━━━━━━━━━━━━━━━━\u001b[0m\u001b[37m\u001b[0m \u001b[1m1s\u001b[0m 2ms/step - accuracy: 0.9489 - loss: 0.1732 - val_accuracy: 0.9237 - val_loss: 0.2548\n",
      "Epoch 41/50\n",
      "\u001b[1m400/400\u001b[0m \u001b[32m━━━━━━━━━━━━━━━━━━━━\u001b[0m\u001b[37m\u001b[0m \u001b[1m1s\u001b[0m 2ms/step - accuracy: 0.9504 - loss: 0.1681 - val_accuracy: 0.9250 - val_loss: 0.2517\n",
      "Epoch 42/50\n",
      "\u001b[1m400/400\u001b[0m \u001b[32m━━━━━━━━━━━━━━━━━━━━\u001b[0m\u001b[37m\u001b[0m \u001b[1m1s\u001b[0m 3ms/step - accuracy: 0.9526 - loss: 0.1653 - val_accuracy: 0.9203 - val_loss: 0.2531\n",
      "Epoch 43/50\n",
      "\u001b[1m400/400\u001b[0m \u001b[32m━━━━━━━━━━━━━━━━━━━━\u001b[0m\u001b[37m\u001b[0m \u001b[1m1s\u001b[0m 3ms/step - accuracy: 0.9539 - loss: 0.1650 - val_accuracy: 0.9256 - val_loss: 0.2498\n",
      "Epoch 44/50\n",
      "\u001b[1m400/400\u001b[0m \u001b[32m━━━━━━━━━━━━━━━━━━━━\u001b[0m\u001b[37m\u001b[0m \u001b[1m1s\u001b[0m 3ms/step - accuracy: 0.9546 - loss: 0.1684 - val_accuracy: 0.9256 - val_loss: 0.2487\n",
      "Epoch 45/50\n",
      "\u001b[1m400/400\u001b[0m \u001b[32m━━━━━━━━━━━━━━━━━━━━\u001b[0m\u001b[37m\u001b[0m \u001b[1m1s\u001b[0m 2ms/step - accuracy: 0.9537 - loss: 0.1573 - val_accuracy: 0.9237 - val_loss: 0.2494\n",
      "Epoch 46/50\n",
      "\u001b[1m400/400\u001b[0m \u001b[32m━━━━━━━━━━━━━━━━━━━━\u001b[0m\u001b[37m\u001b[0m \u001b[1m1s\u001b[0m 3ms/step - accuracy: 0.9567 - loss: 0.1605 - val_accuracy: 0.9256 - val_loss: 0.2488\n",
      "Epoch 47/50\n",
      "\u001b[1m400/400\u001b[0m \u001b[32m━━━━━━━━━━━━━━━━━━━━\u001b[0m\u001b[37m\u001b[0m \u001b[1m1s\u001b[0m 3ms/step - accuracy: 0.9554 - loss: 0.1535 - val_accuracy: 0.9228 - val_loss: 0.2421\n",
      "Epoch 48/50\n",
      "\u001b[1m400/400\u001b[0m \u001b[32m━━━━━━━━━━━━━━━━━━━━\u001b[0m\u001b[37m\u001b[0m \u001b[1m1s\u001b[0m 3ms/step - accuracy: 0.9578 - loss: 0.1504 - val_accuracy: 0.9256 - val_loss: 0.2417\n",
      "Epoch 49/50\n",
      "\u001b[1m400/400\u001b[0m \u001b[32m━━━━━━━━━━━━━━━━━━━━\u001b[0m\u001b[37m\u001b[0m \u001b[1m1s\u001b[0m 2ms/step - accuracy: 0.9596 - loss: 0.1496 - val_accuracy: 0.9259 - val_loss: 0.2445\n",
      "Epoch 50/50\n",
      "\u001b[1m400/400\u001b[0m \u001b[32m━━━━━━━━━━━━━━━━━━━━\u001b[0m\u001b[37m\u001b[0m \u001b[1m1s\u001b[0m 2ms/step - accuracy: 0.9560 - loss: 0.1523 - val_accuracy: 0.9250 - val_loss: 0.2418\n"
     ]
    }
   ],
   "source": [
    "# Train\n",
    "history=model.fit(X_train,y_train,epochs=50,batch_size=32,validation_split=0.2,verbose=1)"
   ]
  },
  {
   "cell_type": "code",
   "execution_count": 60,
   "id": "2c907945-29be-4818-930e-624f3898b6cc",
   "metadata": {},
   "outputs": [
    {
     "name": "stdout",
     "output_type": "stream",
     "text": [
      "\u001b[1m125/125\u001b[0m \u001b[32m━━━━━━━━━━━━━━━━━━━━\u001b[0m\u001b[37m\u001b[0m \u001b[1m0s\u001b[0m 1ms/step\n"
     ]
    }
   ],
   "source": [
    "# Predict\n",
    "y_pred=model.predict(X_test)\n",
    "y_pred_classes=np.argmax(y_pred,axis=1)\n",
    "y_true_classes=np.argmax(y_test,axis=1)"
   ]
  },
  {
   "cell_type": "code",
   "execution_count": 61,
   "id": "d7288ed0-6520-4f3d-bd4e-4cd17215b49c",
   "metadata": {},
   "outputs": [
    {
     "name": "stdout",
     "output_type": "stream",
     "text": [
      "Accuracy: 0.92625\n",
      "Precision: 0.9256867601647076\n",
      "Recall: 0.9256630259422867\n",
      "F1-score: 0.9252769922112443\n",
      "\n",
      "Classification Report:\n",
      "               precision    recall  f1-score   support\n",
      "\n",
      "           0       0.94      0.99      0.97       149\n",
      "           1       0.87      0.90      0.89       153\n",
      "           2       0.92      0.91      0.91       137\n",
      "           3       0.94      0.86      0.90       156\n",
      "           4       0.90      0.94      0.92       141\n",
      "           5       0.89      0.94      0.91       140\n",
      "           6       0.90      0.89      0.89       160\n",
      "           7       0.79      0.81      0.80       144\n",
      "           8       0.96      0.92      0.94       146\n",
      "           9       0.94      0.91      0.92       149\n",
      "          10       0.86      0.89      0.88       130\n",
      "          11       0.96      0.95      0.96       155\n",
      "          12       0.99      0.94      0.96       168\n",
      "          13       0.92      0.91      0.92       151\n",
      "          14       0.89      0.97      0.93       145\n",
      "          15       0.99      0.91      0.95       173\n",
      "          16       0.95      0.93      0.94       166\n",
      "          17       0.85      0.89      0.87       160\n",
      "          18       0.94      0.92      0.93       171\n",
      "          19       0.93      0.94      0.94       163\n",
      "          20       0.97      0.95      0.96       183\n",
      "          21       0.97      0.95      0.96       158\n",
      "          22       0.97      0.98      0.98       148\n",
      "          23       0.91      0.96      0.93       154\n",
      "          24       0.95      0.97      0.96       168\n",
      "          25       0.95      0.92      0.94       132\n",
      "\n",
      "    accuracy                           0.93      4000\n",
      "   macro avg       0.93      0.93      0.93      4000\n",
      "weighted avg       0.93      0.93      0.93      4000\n",
      "\n"
     ]
    }
   ],
   "source": [
    "# Metrics\n",
    "print(\"Accuracy:\", accuracy_score(y_true_classes,y_pred_classes))\n",
    "print(\"Precision:\", precision_score(y_true_classes,y_pred_classes,average='macro'))\n",
    "print(\"Recall:\", recall_score(y_true_classes,y_pred_classes,average='macro'))\n",
    "print(\"F1-score:\", f1_score(y_true_classes,y_pred_classes,average='macro'))\n",
    "print(\"\\nClassification Report:\\n\", classification_report(y_true_classes,y_pred_classes))"
   ]
  },
  {
   "cell_type": "code",
   "execution_count": 48,
   "id": "7ec7e638-da5f-4aa7-be4d-ed1bcc7661be",
   "metadata": {},
   "outputs": [
    {
     "data": {
      "image/png": "[encoded data removed]",
      "text/plain": [
       "<Figure size 640x480 with 1 Axes>"
      ]
     },
     "metadata": {},
     "output_type": "display_data"
    }
   ],
   "source": [
    "# Plot training history\n",
    "plt.plot(history.history['accuracy'], label='Train Accuracy')\n",
    "plt.plot(history.history['val_accuracy'], label='Val Accuracy')\n",
    "plt.title('Training & Validation Accuracy')\n",
    "plt.xlabel('Epochs')\n",
    "plt.ylabel('Accuracy')\n",
    "plt.legend()\n",
    "plt.grid()\n",
    "plt.show()"
   ]
  },
  {
   "cell_type": "code",
   "execution_count": null,
   "id": "01e2a861-6305-476b-972e-da525ed18650",
   "metadata": {},
   "outputs": [],
   "source": []
  }
 ],
 "metadata": {
  "kernelspec": {
   "display_name": "Python 3 (ipykernel)",
   "language": "python",
   "name": "python3"
  },
  "language_info": {
   "codemirror_mode": {
    "name": "ipython",
    "version": 3
   },
   "file_extension": ".py",
   "mimetype": "text/x-python",
   "name": "python",
   "nbconvert_exporter": "python",
   "pygments_lexer": "ipython3",
   "version": "3.12.3"
  }
 },
 "nbformat": 4,
 "nbformat_minor": 5
}
