{
 "cells": [
  {
   "cell_type": "code",
   "execution_count": 1,
   "id": "2396814d-c63d-41e0-a6cf-e4cb81141d0f",
   "metadata": {},
   "outputs": [],
   "source": [
    "import pandas as pd\n",
    "from scipy.stats import chi2_contingency, chi2"
   ]
  },
  {
   "cell_type": "code",
   "execution_count": 16,
   "id": "d84c9934-0048-4474-b6a5-98ce6b9ff81f",
   "metadata": {},
   "outputs": [],
   "source": [
    "# Step 1: Create the contingency table\n",
    "data=[[50,70],[80,100],[60,90],[30,50],[20,50]]\n",
    "labels=['Very Satisfied','Satisfied','Neutral','Unsatisfied','Very Unsatisfied']\n",
    "columns=['Smart Thermostat','Smart Light']\n",
    "\n",
    "df=pd.DataFrame(data,index=labels,columns=columns)"
   ]
  },
  {
   "cell_type": "code",
   "execution_count": 17,
   "id": "6786d94a-b570-48f8-95a7-e187bc7d9f13",
   "metadata": {},
   "outputs": [],
   "source": [
    "# Step 2: Chi-Square Test\n",
    "chi2_stat,p_val,dof,expected=chi2_contingency(df)"
   ]
  },
  {
   "cell_type": "code",
   "execution_count": 18,
   "id": "ea7c865d-0b08-44fb-a12e-2cf5f8b92f5d",
   "metadata": {},
   "outputs": [],
   "source": [
    "# Step 3: Critical value at alpha = 0.05\n",
    "alpha=0.05\n",
    "critical_val=chi2.ppf(1-alpha,dof)"
   ]
  },
  {
   "cell_type": "code",
   "execution_count": 19,
   "id": "40ff9a9b-2289-435c-bae0-17def0c4678d",
   "metadata": {},
   "outputs": [],
   "source": [
    "# Step 4: Decision\n",
    "decision=\"Reject the null hypothesis (significant association)\" if chi2_stat>critical_val else \"Fail to reject the null hypothesis (no significant association)\""
   ]
  },
  {
   "cell_type": "code",
   "execution_count": 15,
   "id": "743ddd15-4b59-4c62-bd91-adf52655b6c0",
   "metadata": {},
   "outputs": [
    {
     "name": "stdout",
     "output_type": "stream",
     "text": [
      "Chi-Square Statistic:5.6382\n",
      "Degrees of Freedom:4\n",
      "Critical Value(alpha=0.05):9.4877\n",
      "P-value:0.2278\n",
      "Decision:Fail to reject the null hypothesis (no significant association)\n"
     ]
    }
   ],
   "source": [
    "print(f\"Chi-Square Statistic:{chi2_stat:.4f}\")\n",
    "print(f\"Degrees of Freedom:{dof}\")\n",
    "print(f\"Critical Value(alpha=0.05):{critical_val:.4f}\")\n",
    "print(f\"P-value:{p_val:.4f}\")\n",
    "print(f\"Decision:{decision}\")"
   ]
  },
  {
   "cell_type": "code",
   "execution_count": null,
   "id": "e24d4d74-fa5d-48f0-b588-1653717cf1fb",
   "metadata": {},
   "outputs": [],
   "source": []
  }
 ],
 "metadata": {
  "kernelspec": {
   "display_name": "Python 3 (ipykernel)",
   "language": "python",
   "name": "python3"
  },
  "language_info": {
   "codemirror_mode": {
    "name": "ipython",
    "version": 3
   },
   "file_extension": ".py",
   "mimetype": "text/x-python",
   "name": "python",
   "nbconvert_exporter": "python",
   "pygments_lexer": "ipython3",
   "version": "3.12.3"
  }
 },
 "nbformat": 4,
 "nbformat_minor": 5
}
