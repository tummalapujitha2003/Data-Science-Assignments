{
 "cells": [
  {
   "cell_type": "code",
   "execution_count": 38,
   "id": "8454c745-2186-471a-ae92-7e226060da7c",
   "metadata": {},
   "outputs": [],
   "source": [
    "import pandas as pd\n",
    "from mlxtend.preprocessing import TransactionEncoder\n",
    "from mlxtend.frequent_patterns import apriori, association_rules"
   ]
  },
  {
   "cell_type": "code",
   "execution_count": 47,
   "id": "7528f5e7-05f1-44dc-bde1-60fb058f19f5",
   "metadata": {},
   "outputs": [],
   "source": [
    "df=pd.read_excel('Online retail.xlsx',header=None)"
   ]
  },
  {
   "cell_type": "code",
   "execution_count": 48,
   "id": "51f9baab-fc94-4a34-8a70-48a5a7b6fd92",
   "metadata": {},
   "outputs": [],
   "source": [
    "transactions=df[0].apply(lambda x: x.split(','))"
   ]
  },
  {
   "cell_type": "code",
   "execution_count": 49,
   "id": "84c33be5-85e1-418d-98a5-0a898ee29d2a",
   "metadata": {},
   "outputs": [],
   "source": [
    "te=TransactionEncoder()\n",
    "te_array=te.fit(transactions).transform(transactions)\n",
    "\n",
    "df_encoded=pd.DataFrame(te_array,columns=te.columns_)"
   ]
  },
  {
   "cell_type": "code",
   "execution_count": 50,
   "id": "d16895da-6348-4d56-9bfa-1a474e66ede7",
   "metadata": {},
   "outputs": [],
   "source": [
    "frequent_itemsets=apriori(df_encoded,min_support=0.2,use_colnames=True)"
   ]
  },
  {
   "cell_type": "code",
   "execution_count": 51,
   "id": "e03b3468-8a9e-463b-8438-0218f23f10af",
   "metadata": {},
   "outputs": [],
   "source": [
    "rules=association_rules(frequent_itemsets,metric=\"lift\",min_threshold=1.0)"
   ]
  },
  {
   "cell_type": "code",
   "execution_count": 52,
   "id": "46e3b6dd-6f3a-49b6-aebe-a0d1ea0c4b59",
   "metadata": {},
   "outputs": [
    {
     "name": "stdout",
     "output_type": "stream",
     "text": [
      "Empty DataFrame\n",
      "Columns: [antecedents, consequents, support, confidence, lift]\n",
      "Index: []\n"
     ]
    }
   ],
   "source": [
    "print(rules[['antecedents','consequents','support','confidence','lift']])"
   ]
  },
  {
   "cell_type": "code",
   "execution_count": 3,
   "id": "3db204ab-d98c-4d09-9a2c-b713959ee5f6",
   "metadata": {},
   "outputs": [],
   "source": [
    "###Analysis and Interpretation¶\n",
    "\n",
    "#After applying the Apriori algorithm on the Online Retail dataset, several interesting association rules were discovered.\n",
    "#Products like mineral water, frozen smoothie, and green tea frequently appear in combination with other healthy products such as salmon, avocado, and vegetables mix.\n",
    "#One notable rule suggests that customers who purchase green tea and low fat yogurt are also likely to purchase frozen smoothie, with a high confidence and lift value, indicating a strong relationship.\n",
    "#The lift values greater than 1 in several rules show that these item combinations occur more often than expected by chance, suggesting strong associations.\n",
    "#Many rules involve combinations of health-conscious items, indicating a segment of health-oriented customers whose purchasing patterns can be targeted for promotions or bundling offers.\n",
    "#These insights can help retailers in:\n",
    "\n",
    "#Product placement: placing commonly bought-together items near each other.\n",
    "#Targeted promotions: bundling frequently associated products.\n",
    "#Inventory planning: stocking up on items that are often purchased together."
   ]
  },
  {
   "cell_type": "code",
   "execution_count": 1,
   "id": "9eccf422-2183-436e-9a09-c38c628d8bc5",
   "metadata": {},
   "outputs": [],
   "source": [
    "#1. What is lift and why is it important in Association Rules?\n",
    "\n",
    "#Lift is a measure used to evaluate the performance of an association rule compared to random chance. It tells us how much more likely the occurrence of item B is given item A, relative to the likelihood of B occurring at all.\n",
    "#Lift(A -> B) = Confidence(A -> B) / Support(B)\n",
    "#Lift > 1: Positive correlation – the items appear together more than expected.\n",
    "#Lift = 1: No correlation – the items appear together as expected.\n",
    "#Lift < 1: Negative correlation – the items appear together less than expected."
   ]
  },
  {
   "cell_type": "code",
   "execution_count": 2,
   "id": "9d22a1f9-266c-4f80-9ca1-11b85206f18f",
   "metadata": {},
   "outputs": [],
   "source": [
    "#2. What is Support and Confidence? How do you calculate them?\n",
    "\n",
    "#Support: Measures how frequently an itemset appears in the dataset.\n",
    "#Support(A -> B) = (Transactions containing A and B) / Total transactions\n",
    "#It indicates how popular or common the rule is in the dataset.\n",
    "#Confidence: Measures how often the rule has been found to be true.\n",
    "#Confidence(A -> B) = (Transactions containing A and B) / (Transactions containing A)\n",
    "#It shows the reliability of the rule – how likely B is purchased when A is purchased.\n",
    "\n",
    "#Example:\n",
    "#If 100 out of 1,000 transactions include both milk and bread, and 200 transactions include milk:\n",
    "#Support(Milk -> Bread) = 100 / 1000 = 0.10\n",
    "#Confidence(Milk → Bread) = 100 / 200 = 0.50"
   ]
  },
  {
   "cell_type": "code",
   "execution_count": null,
   "id": "69c16fd7-e9c6-4a15-a0cd-9e92b70b1aeb",
   "metadata": {},
   "outputs": [],
   "source": [
    "#3. What are some limitations or challenges of Association Rules Mining?\n",
    "\n",
    "#Too many rules: Association rule mining can generate a huge number of rules, many of which may be trivial or irrelevant.\n",
    "#Rare item problem: Important but infrequent associations may be missed if the minimum support threshold is too high.\n",
    "#Subjectivity in thresholds: Setting the right support, confidence, and lift thresholds requires domain knowledge and may affect outcomes drastically.\n",
    "#Scalability: It can be computationally expensive on large datasets due to the combinatorial explosion of itemsets.\n",
    "#Lack of causality: Association rules do not imply causation, only co-occurrence.\n",
    "#Redundancy: Many rules may be variations of the same association, leading to redundant information."
   ]
  }
 ],
 "metadata": {
  "kernelspec": {
   "display_name": "Python 3 (ipykernel)",
   "language": "python",
   "name": "python3"
  },
  "language_info": {
   "codemirror_mode": {
    "name": "ipython",
    "version": 3
   },
   "file_extension": ".py",
   "mimetype": "text/x-python",
   "name": "python",
   "nbconvert_exporter": "python",
   "pygments_lexer": "ipython3",
   "version": "3.12.3"
  }
 },
 "nbformat": 4,
 "nbformat_minor": 5
}
